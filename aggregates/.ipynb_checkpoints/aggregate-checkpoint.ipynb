{
 "cells": [
  {
   "cell_type": "markdown",
   "metadata": {},
   "source": [
    "general approach to creating an order aggregate:\n",
    "\n",
    "Identify Data Sources: Determine the data sources that contain information relevant to orders. This may include databases, APIs, or other data repositories where order-related data is stored.\n",
    "\n",
    "Extract Order Data: Extract order-related data from the identified sources. This may include data such as order IDs, customer IDs, product IDs, quantities, prices, timestamps, etc.\n",
    "\n",
    "Join Data: If the order-related data is stored in multiple tables or datasets, you may need to join them together using common keys (e.g., order ID, customer ID) to create a unified dataset containing all relevant information.\n",
    "\n",
    "Aggregate Data: Once you have a unified dataset containing order-related information, you can aggregate this data to generate insights or reports. Common aggregation operations include calculating total sales, average order value, most popular products, customer segmentation, etc.\n",
    "\n",
    "Perform Calculations: Perform any necessary calculations or transformations on the aggregated data to generate the desired metrics or insights. This may involve calculating sums, averages, counts, percentages, etc.\n",
    "\n",
    "Generate Reports: Use the aggregated and calculated data to generate reports, visualizations, or other forms of output that communicate the insights derived from the order data.\n",
    "\n",
    "code explenation:\n",
    "We join order data with order item data and customer data using pd.merge() to create a unified dataset.\n",
    "We aggregate the combined data using groupby() and agg() to calculate total amounts, quantities, etc., for each order.\n",
    "We calculate additional metrics such as average order value.\n",
    "Finally, we print the aggregated data as a report\n"
   ]
  },
  {
   "cell_type": "markdown",
   "metadata": {},
   "source": [
    "lets first create data frames from list"
   ]
  },
  {
   "cell_type": "code",
   "execution_count": 2,
   "metadata": {},
   "outputs": [
    {
     "name": "stdout",
     "output_type": "stream",
     "text": [
      "DataFrame from list:\n",
      "    Name  Age\n",
      "0   John   25\n",
      "1  Alice   30\n",
      "2    Bob   35\n",
      "\n",
      "DataFrame from dictionary:\n",
      "    Name  Age\n",
      "0   John   25\n",
      "1  Alice   30\n",
      "2    Bob   35\n"
     ]
    }
   ],
   "source": [
    "import pandas as pd\n",
    "\n",
    "# Create a DataFrame from a list of lists\n",
    "data = [['John', 25], ['Alice', 30], ['Bob', 35]]\n",
    "df_from_list = pd.DataFrame(data, columns=['Name', 'Age'])\n",
    "\n",
    "# Create a DataFrame from a dictionary\n",
    "data = {'Name': ['John', 'Alice', 'Bob'], 'Age': [25, 30, 35]}\n",
    "df_from_dict = pd.DataFrame(data)\n",
    "\n",
    "print(\"DataFrame from list:\")\n",
    "print(df_from_list)\n",
    "print(\"\\nDataFrame from dictionary:\")\n",
    "print(df_from_dict)"
   ]
  },
  {
   "cell_type": "code",
   "execution_count": null,
   "metadata": {},
   "outputs": [],
   "source": [
    "data frames from numpy arrays"
   ]
  },
  {
   "cell_type": "code",
   "execution_count": 3,
   "metadata": {},
   "outputs": [
    {
     "name": "stdout",
     "output_type": "stream",
     "text": [
      "DataFrame from NumPy array:\n",
      "   A  B  C\n",
      "0  1  2  3\n",
      "1  4  5  6\n",
      "2  7  8  9\n"
     ]
    }
   ],
   "source": [
    "import pandas as pd\n",
    "import numpy as np\n",
    "\n",
    "# Create a NumPy array\n",
    "data = np.array([[1, 2, 3], [4, 5, 6], [7, 8, 9]])\n",
    "\n",
    "# Create a DataFrame from the NumPy array\n",
    "df_from_np_array = pd.DataFrame(data, columns=['A', 'B', 'C'])\n",
    "\n",
    "print(\"DataFrame from NumPy array:\")\n",
    "print(df_from_np_array)"
   ]
  },
  {
   "cell_type": "code",
   "execution_count": null,
   "metadata": {},
   "outputs": [],
   "source": [
    "data frame from mysql database"
   ]
  },
  {
   "cell_type": "code",
   "execution_count": 4,
   "metadata": {},
   "outputs": [
    {
     "ename": "SyntaxError",
     "evalue": "invalid syntax (2601600537.py, line 3)",
     "output_type": "error",
     "traceback": [
      "\u001b[1;36m  Cell \u001b[1;32mIn[4], line 3\u001b[1;36m\u001b[0m\n\u001b[1;33m    from ~/persistance/DataBaseReader import DatabaseReader\u001b[0m\n\u001b[1;37m         ^\u001b[0m\n\u001b[1;31mSyntaxError\u001b[0m\u001b[1;31m:\u001b[0m invalid syntax\n"
     ]
    }
   ],
   "source": [
    "import pandas as pd\n",
    "import numpy as np\n",
    "from ../persistance/DataBaseReader import DatabaseReader\n",
    "\n",
    "host = \"localhost\"\n",
    "user = \"root\"\n",
    "password = \"jam2003eft\"\n",
    "database = \"salesordersdelivery\"\n",
    "\n",
    "customer_reader = CustomerDataReader(host, user, password, database)\n",
    "\n",
    "print(\"Customers:\", customers_data)\n"
   ]
  },
  {
   "cell_type": "code",
   "execution_count": 1,
   "metadata": {},
   "outputs": [
    {
     "ename": "NameError",
     "evalue": "name 'df_orders' is not defined",
     "output_type": "error",
     "traceback": [
      "\u001b[1;31m---------------------------------------------------------------------------\u001b[0m",
      "\u001b[1;31mNameError\u001b[0m                                 Traceback (most recent call last)",
      "Cell \u001b[1;32mIn[1], line 8\u001b[0m\n\u001b[0;32m      1\u001b[0m \u001b[38;5;28;01mimport\u001b[39;00m \u001b[38;5;21;01mpandas\u001b[39;00m \u001b[38;5;28;01mas\u001b[39;00m \u001b[38;5;21;01mpd\u001b[39;00m\n\u001b[0;32m      3\u001b[0m \u001b[38;5;66;03m# Assume df_orders is a DataFrame containing order data\u001b[39;00m\n\u001b[0;32m      4\u001b[0m \u001b[38;5;66;03m# Assume df_order_items is a DataFrame containing order item data\u001b[39;00m\n\u001b[0;32m      5\u001b[0m \u001b[38;5;66;03m# Assume df_customers is a DataFrame containing customer data\u001b[39;00m\n\u001b[0;32m      6\u001b[0m \n\u001b[0;32m      7\u001b[0m \u001b[38;5;66;03m# Join order data with order item data\u001b[39;00m\n\u001b[1;32m----> 8\u001b[0m df_combined \u001b[38;5;241m=\u001b[39m pd\u001b[38;5;241m.\u001b[39mmerge(\u001b[43mdf_orders\u001b[49m, df_order_items, on\u001b[38;5;241m=\u001b[39m\u001b[38;5;124m'\u001b[39m\u001b[38;5;124morder_id\u001b[39m\u001b[38;5;124m'\u001b[39m)\n\u001b[0;32m     10\u001b[0m \u001b[38;5;66;03m# Join combined data with customer data\u001b[39;00m\n\u001b[0;32m     11\u001b[0m df_combined \u001b[38;5;241m=\u001b[39m pd\u001b[38;5;241m.\u001b[39mmerge(df_combined, df_customers, on\u001b[38;5;241m=\u001b[39m\u001b[38;5;124m'\u001b[39m\u001b[38;5;124mcustomer_id\u001b[39m\u001b[38;5;124m'\u001b[39m)\n",
      "\u001b[1;31mNameError\u001b[0m: name 'df_orders' is not defined"
     ]
    }
   ],
   "source": [
    "import pandas as pd\n",
    "\n",
    "# Assume df_orders is a DataFrame containing order data\n",
    "# Assume df_order_items is a DataFrame containing order item data\n",
    "# Assume df_customers is a DataFrame containing customer data\n",
    "\n",
    "# Join order data with order item data\n",
    "df_combined = pd.merge(df_orders, df_order_items, on='order_id')\n",
    "\n",
    "# Join combined data with customer data\n",
    "df_combined = pd.merge(df_combined, df_customers, on='customer_id')\n",
    "\n",
    "# Aggregate data\n",
    "order_aggregate = df_combined.groupby('order_id').agg({\n",
    "    'total_amount': 'sum',\n",
    "    'quantity': 'sum',\n",
    "    'customer_id': 'first',\n",
    "    'customer_name': 'first',\n",
    "    # Add additional aggregation operations as needed\n",
    "})\n",
    "\n",
    "# Calculate additional metrics\n",
    "order_aggregate['average_order_value'] = order_aggregate['total_amount'] / order_aggregate['quantity']\n",
    "\n",
    "# Generate report or output\n",
    "print(order_aggregate)\n"
   ]
  },
  {
   "cell_type": "code",
   "execution_count": null,
   "metadata": {},
   "outputs": [],
   "source": []
  }
 ],
 "metadata": {
  "kernelspec": {
   "display_name": "Python 3 (ipykernel)",
   "language": "python",
   "name": "python3"
  },
  "language_info": {
   "codemirror_mode": {
    "name": "ipython",
    "version": 3
   },
   "file_extension": ".py",
   "mimetype": "text/x-python",
   "name": "python",
   "nbconvert_exporter": "python",
   "pygments_lexer": "ipython3",
   "version": "3.11.2"
  }
 },
 "nbformat": 4,
 "nbformat_minor": 4
}
